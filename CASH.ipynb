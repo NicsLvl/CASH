{
 "cells": [
  {
   "cell_type": "code",
   "execution_count": 32,
   "metadata": {},
   "outputs": [
    {
     "name": "stdout",
     "output_type": "stream",
     "text": [
      "first age where your net assets reach 0 is 23\n",
      "you can increase your expenses by 15%\n",
      "you can reduce your income by 16%\n",
      "your earliest retirement age is 12\n",
      "you lowest investment rate is 4%\n",
      "you lowest investment allocation is 10%\n"
     ]
    },
    {
     "name": "stderr",
     "output_type": "stream",
     "text": [
      "<ipython-input-17-3e1b4f76c0c6>:53: DeprecationWarning: numpy.pmt is deprecated and will be removed from NumPy 1.20. Use numpy_financial.pmt instead (https://pypi.org/project/numpy-financial/).\n",
      "  payment = np.pmt(house_interest_rate,house_loan_years,-remaining_value)\n"
     ]
    }
   ],
   "source": [
    "print(\"first age where your net assets reach 0 is \" + str(Calculate_Age()))\n",
    "print(\"you can increase your expenses by \" + str(Max_Expense()))\n",
    "print(\"you can reduce your income by \" + str(Min_Income()))\n",
    "print(\"your earliest retirement age is \" + str(Calculate_Retirement()))\n",
    "print(\"you lowest investment rate is \" + str(Calculate_Investment_Rate()))\n",
    "print(\"you lowest investment allocation is \" + str(Calculate_Investment_Percentage()))"
   ]
  },
  {
   "cell_type": "markdown",
   "metadata": {},
   "source": [
    "## General Data"
   ]
  },
  {
   "cell_type": "code",
   "execution_count": 23,
   "metadata": {},
   "outputs": [],
   "source": [
    "import numpy as np\n",
    "\n",
    "# Serializers\n",
    "# Personal Inputs\n",
    "starting_age = 3\n",
    "starting_savings = 5000\n",
    "retirement_age = 12\n",
    "life_expectancy = 20\n",
    "percentage_investment = 0.3\n",
    "\n",
    "# Macro Rates\n",
    "inflation_rate = 0.0252\n",
    "housing_price_index = 0.0596\n",
    "salary_rate = 0.0420\n",
    "investment_rate = 0.1\n",
    "bank_interest_rate = 0.01\n",
    "\n",
    "# Income Inputs\n",
    "# Each income input needs its own 5 variables, amount, starting, ending, rate and bonus\n",
    "total_monthly_income = [110,4,19,0.042,2,55,4,19,0.042,2,55,4,19,0.042,2]\n",
    "\n",
    "# Expense Inputs\n",
    "# Each expense input needs its own 4 variables, amount, starting, ending and rate\n",
    "total_monthly_expense =[50,4,20,0.0252,50,4,20,0.0252]\n",
    "\n",
    "# House Inputs\n",
    "house_value = 2500\n",
    "house_purchase_age = 4\n",
    "house_loan_years = 15\n",
    "house_downpayment_percentage = 0.1\n",
    "house_interest_rate = 0.026\n",
    "\n",
    "# This is needed for computation\n",
    "# Creating the Age Column\n",
    "Final_Age = life_expectancy+20 # We will only project 20 years past life expectancy \n",
    "Age_List = list(range(starting_age,Final_Age+1)) "
   ]
  },
  {
   "cell_type": "markdown",
   "metadata": {},
   "source": [
    "## Income"
   ]
  },
  {
   "cell_type": "code",
   "execution_count": 2,
   "metadata": {},
   "outputs": [
    {
     "name": "stdout",
     "output_type": "stream",
     "text": [
      "38\n",
      "[0, 3080.0, 3209.36, 3344.1531200000004, 3484.60755104, 3630.9610681836807, 3783.461433047395, 3942.366813235386, 4107.946219391272, 0.0, 0.0, 0.0, 0.0, 0.0, 0.0, 0.0, 0.0, 0, 0, 0, 0, 0, 0, 0, 0, 0, 0, 0, 0, 0, 0, 0, 0, 0, 0, 0, 0, 0]\n"
     ]
    }
   ],
   "source": [
    "def income(ra=retirement_age):\n",
    "   \n",
    "    # Creating lists for different income streams\n",
    "    amount = []\n",
    "    starting = []\n",
    "    ending = []\n",
    "    rate = []\n",
    "    bonus = []\n",
    "    \n",
    "    # Putting FE values into the respective lists\n",
    "    for x in range(5):\n",
    "        for i in total_monthly_income[x::5]:\n",
    "            if x == 0:\n",
    "                amount.append(i)  \n",
    "            elif x == 1:\n",
    "                starting.append(i)\n",
    "            elif x == 2:\n",
    "                ending.append(i)\n",
    "            elif x == 3:\n",
    "                rate.append(i)\n",
    "            else:\n",
    "                bonus.append(i)\n",
    "    \n",
    "    total = [0 for x in range(len(Age_List))]\n",
    "    \n",
    "    for i in range(len(amount)):        \n",
    "        first_part = [0 for x in range(starting[i]-starting_age)]\n",
    "        middle_part = [amount[i]*(12+bonus[i])*(1+rate[i])**x for x in range(ending[i]-starting[i]+1)]\n",
    "        last_part = [0 for x in range(Final_Age-ending[i])]\n",
    "        \n",
    "        total_sub = first_part+middle_part+last_part\n",
    "        total = [x + y for x, y in zip(total, total_sub)]\n",
    "    \n",
    "    retirement_status = []\n",
    "    \n",
    "    for age in Age_List:\n",
    "        if age < ra:\n",
    "            retirement_status.append(1)\n",
    "        else:\n",
    "            retirement_status.append(0)\n",
    "    \n",
    "    total = [x * y for x, y in zip(total, retirement_status)]\n",
    "    \n",
    "    return total\n",
    "print(len(income()))\n",
    "print(income())"
   ]
  },
  {
   "cell_type": "markdown",
   "metadata": {},
   "source": [
    "## Expenses"
   ]
  },
  {
   "cell_type": "code",
   "execution_count": 17,
   "metadata": {},
   "outputs": [
    {
     "name": "stdout",
     "output_type": "stream",
     "text": [
      "38\n",
      "[0, 1838.8746049831368, 1608.7506049831366, 1644.4029601831364, 1680.9537547341763, 1718.4256293079022, 1756.8417951208862, 1796.226048312357, 1836.6027846842537, 1877.9970148127215, 1920.4343795404268, 1963.94116585927, 2008.5443231933489, 2054.2714800922454, 2101.1509613449953, 2149.2118055253136, 2004.5091779958398, 2055.022809281335, 2106.809384075224, 2159.9009805539195, 2214.330485263878, 2270.1316134925273, 2327.3389301525385, 2385.9878711923825, 2446.11476554643, 2507.7568576382, 2570.952330450683, 2635.7403291780392, 2702.160985473326, 2770.2554423072534, 2840.065879453396, 2911.6355396156214, 2985.0087552139344, 3060.2309758453252, 3137.348796436627, 3216.4099861068294, 3297.4635177567216, 3380.55959840419]\n"
     ]
    },
    {
     "name": "stderr",
     "output_type": "stream",
     "text": [
      "<ipython-input-17-3e1b4f76c0c6>:53: DeprecationWarning: numpy.pmt is deprecated and will be removed from NumPy 1.20. Use numpy_financial.pmt instead (https://pypi.org/project/numpy-financial/).\n",
      "  payment = np.pmt(house_interest_rate,house_loan_years,-remaining_value)\n"
     ]
    }
   ],
   "source": [
    "def expense():\n",
    "   \n",
    "    # Creating lists for different expense streams\n",
    "    amount = []\n",
    "    starting = []\n",
    "    ending = []\n",
    "    rate = []\n",
    "    \n",
    "    # Putting FE values into the respective lists\n",
    "    for x in range(4):\n",
    "        for i in total_monthly_expense[x::4]:\n",
    "            if x == 0:\n",
    "                amount.append(i)  \n",
    "            elif x == 1:\n",
    "                starting.append(i)\n",
    "            elif x == 2:\n",
    "                ending.append(i)\n",
    "            else:\n",
    "                rate.append(i)\n",
    "    \n",
    "    #Calculate Total Expenses\n",
    "    total = [0 for x in range(len(Age_List))]\n",
    "    \n",
    "    for i in range(len(amount)):        \n",
    "        first_part = [0 for x in range(starting[i]-starting_age)]\n",
    "        if life_expectancy > ending[i]:\n",
    "            middle_part = [amount[i]*12*(1+rate[i])**x for x in range(ending[i]-starting[i]+1)]\n",
    "            last_part = [0 for x in range(Final_Age-ending[i])]\n",
    "        else:\n",
    "            middle_part = [amount[i]*12*(1+rate[i])**x for x in range(Final_Age-starting[i]+1)]\n",
    "            last_part = []\n",
    "                                                                    \n",
    "        total_sub = first_part+middle_part+last_part\n",
    "        total = [x + y for x, y in zip(total, total_sub)]\n",
    "    \n",
    "    # Housing Downpayment\n",
    "    housing_downpayment = []\n",
    "    \n",
    "    for idx,age in enumerate(Age_List):\n",
    "        if age == house_purchase_age:\n",
    "            price = house_value*(1+housing_price_index)**(idx)*house_downpayment_percentage\n",
    "            housing_downpayment.append(price)\n",
    "        else:\n",
    "            housing_downpayment.append(0)\n",
    "    \n",
    "    total = [x + y for x, y in zip(total, housing_downpayment)]\n",
    "\n",
    "    # Housing Mortgage\n",
    "    housing_mortgage = []\n",
    "    \n",
    "    remaining_value = sum(housing_downpayment)/house_downpayment_percentage - sum(housing_downpayment)\n",
    "    for idx,age in enumerate(Age_List):\n",
    "        payment = np.pmt(house_interest_rate,house_loan_years,-remaining_value)\n",
    "        if age in range(house_purchase_age,house_purchase_age + house_loan_years):  \n",
    "            housing_mortgage.append(payment)\n",
    "        else:\n",
    "            housing_mortgage.append(0)\n",
    "    \n",
    "    total = [x + y for x, y in zip(total, housing_mortgage)]\n",
    "    \n",
    "    return total\n",
    "\n",
    "print(len(expense()))\n",
    "print(expense())"
   ]
  },
  {
   "cell_type": "markdown",
   "metadata": {},
   "source": [
    "## Total"
   ]
  },
  {
   "cell_type": "code",
   "execution_count": 4,
   "metadata": {},
   "outputs": [
    {
     "name": "stderr",
     "output_type": "stream",
     "text": [
      "<ipython-input-3-3e1b4f76c0c6>:53: DeprecationWarning: numpy.pmt is deprecated and will be removed from NumPy 1.20. Use numpy_financial.pmt instead (https://pypi.org/project/numpy-financial/).\n",
      "  payment = np.pmt(house_interest_rate,house_loan_years,-remaining_value)\n"
     ]
    },
    {
     "data": {
      "text/plain": [
       "[5185.0,\n",
       " 6020.368517316243,\n",
       " 7073.038123773188,\n",
       " 8216.06099221784,\n",
       " 9455.249742314467,\n",
       " 10796.743607837194,\n",
       " 12247.025403592064,\n",
       " 13812.93933013756,\n",
       " 15501.70965624824,\n",
       " 14162.532953942668,\n",
       " 12730.584257676619,\n",
       " 11201.341797782987,\n",
       " 9570.089051128529,\n",
       " 7831.906843546332,\n",
       " 5981.6651426276685,\n",
       " 4014.014528977361,\n",
       " 2120.9404687607603,\n",
       " 106.37453485186875,\n",
       " 0,\n",
       " 0,\n",
       " 0,\n",
       " 0,\n",
       " 0,\n",
       " 0,\n",
       " 0,\n",
       " 0,\n",
       " 0,\n",
       " 0,\n",
       " 0,\n",
       " 0,\n",
       " 0,\n",
       " 0,\n",
       " 0,\n",
       " 0,\n",
       " 0,\n",
       " 0,\n",
       " 0,\n",
       " 0]"
      ]
     },
     "execution_count": 4,
     "metadata": {},
     "output_type": "execute_result"
    }
   ],
   "source": [
    "# Calculating Net Assets\n",
    "def total(inc, exp,IR=investment_rate,IP=percentage_investment):\n",
    "    ending_balance = []\n",
    "    start = starting_savings\n",
    "    for i in range(Final_Age-starting_age+1):\n",
    "        before = start + inc[i] - exp[i]\n",
    "        if before < 0:\n",
    "            ending = 0\n",
    "        elif before > start:\n",
    "            ending = start*IP*(1+IR) + start*(1-IP)*(1+bank_interest_rate) + (before-start)*IP*(1+IR)/2 + (before-start)*(1-IP)*(1+bank_interest_rate)/2\n",
    "        else:\n",
    "            ending = before*IP*(1+IR) + before*(1-IP)*(1+bank_interest_rate) + (start-before)*IP*(IR)/2 + (start-before)*(1-IP)*(bank_interest_rate)/2\n",
    "        ending_balance.append(ending)\n",
    "        start = ending\n",
    "    \n",
    "    return ending_balance\n",
    "\n",
    "total(income(),expense())"
   ]
  },
  {
   "cell_type": "markdown",
   "metadata": {},
   "source": [
    "## Solvers"
   ]
  },
  {
   "cell_type": "code",
   "execution_count": 5,
   "metadata": {},
   "outputs": [],
   "source": [
    "def Calculate_Age():\n",
    "    for idx,i in enumerate(range(starting_age,Final_Age)):\n",
    "        x = income()\n",
    "        y = expense()\n",
    "        z = total(x,y)\n",
    "        if z[idx]==0:\n",
    "            return i # first age when your net assets reach 0 at life expectancy\n",
    "        elif i == Final_Age-1:\n",
    "            return \"N/A\" # no age where your net assets reach 0"
   ]
  },
  {
   "cell_type": "code",
   "execution_count": 30,
   "metadata": {},
   "outputs": [],
   "source": [
    "def Max_Expense():\n",
    "    for i in range(0,101):\n",
    "        x = income()\n",
    "        y = [amount*(1+i/100) for amount in expense()]\n",
    "        z = total(x,y)\n",
    "        if z[life_expectancy-starting_age]>0:\n",
    "            pass\n",
    "        elif z[life_expectancy-starting_age] == 0:\n",
    "            if i == 1:\n",
    "                return \"0%\"\n",
    "            else:\n",
    "                return str(i+1) + \"%\" # How much percent you can afford to increase all your expenses\n",
    "        else:\n",
    "            return \">100%\" # You can return expenses >100%"
   ]
  },
  {
   "cell_type": "code",
   "execution_count": 27,
   "metadata": {},
   "outputs": [],
   "source": [
    "def Min_Income():\n",
    "    for i in reversed(range(0,101)):\n",
    "        x = [amount*i/100 for amount in income()]\n",
    "        y = expense()\n",
    "        z = total(x,y)\n",
    "        if z[life_expectancy-starting_age]>0:\n",
    "            if i == 0:\n",
    "                return \"100%\"\n",
    "        elif z[life_expectancy-starting_age] == 0:\n",
    "            return str(100-(i)-1) +\"%\" # How much percent you can afford to reduce all your income\n",
    "        else:\n",
    "            return \"0%\" # You can't reduce income at all"
   ]
  },
  {
   "cell_type": "code",
   "execution_count": 8,
   "metadata": {},
   "outputs": [],
   "source": [
    "def Calculate_Retirement():\n",
    "    # Searches for retirement age from Starting_Age till the end for the first time \n",
    "    # Ending_Asset value is positive at Life_Expectancy\n",
    "    for i in range(starting_age,Final_Age):\n",
    "        x = income(ra=i)\n",
    "        y = expense()\n",
    "        z = total(x,y)\n",
    "        if z[life_expectancy-starting_age] == 0:\n",
    "            if i == Final_Age-1:\n",
    "                return \"N/A\" # you can't retire\n",
    "            else:  \n",
    "                pass\n",
    "        elif z[life_expectancy-starting_age] > 0:\n",
    "            return i # the earliest possible retirement age till life expectancy\n",
    "        else:\n",
    "            return starting_age # no issues retiring at Starting_Age"
   ]
  },
  {
   "cell_type": "code",
   "execution_count": 9,
   "metadata": {},
   "outputs": [],
   "source": [
    "def Calculate_Investment_Rate():\n",
    "    # Searches for percentage from 0-100 till the end for the first time \n",
    "    # Ending_Asset value at Life_Expectancy is positive\n",
    "    for i in range(0,101):\n",
    "        x = income()\n",
    "        y = expense()\n",
    "        z = total(x,y,IR=i/100)\n",
    "        if z[life_expectancy-starting_age] == 0:\n",
    "            if i == 100:\n",
    "                return \"N/A\" # you would require investment returns of >100%, try tweaking other parameters\"\n",
    "            else:\n",
    "                pass\n",
    "        elif z[life_expectancy-starting_age] > 0:\n",
    "            return str(i) +\"%\" # the minimum investment rate p.a to reach life expectancy"
   ]
  },
  {
   "cell_type": "code",
   "execution_count": 12,
   "metadata": {},
   "outputs": [],
   "source": [
    "def Calculate_Investment_Percentage():\n",
    "    # Searches for percentage allocation from 0-100 till the end for the first time \n",
    "    # Ending_Asset value at Life_Expectancy is positive\n",
    "    for i in range(0,101):\n",
    "        x = income()\n",
    "        y = expense()\n",
    "        z = total(x,y,IP=i/100)\n",
    "        if z[life_expectancy-starting_age] == 0:\n",
    "            if i == 100:\n",
    "                return \"N/A\" # you would require investment allocation of >100%, try tweaking other parameters\n",
    "            else:\n",
    "                pass\n",
    "        elif z[life_expectancy-starting_age] > 0:\n",
    "            return str(i) + \"%\" # the minimum investment percentage to reach life expectancy"
   ]
  }
 ],
 "metadata": {
  "kernelspec": {
   "display_name": "Python 3",
   "language": "python",
   "name": "python3"
  },
  "language_info": {
   "codemirror_mode": {
    "name": "ipython",
    "version": 3
   },
   "file_extension": ".py",
   "mimetype": "text/x-python",
   "name": "python",
   "nbconvert_exporter": "python",
   "pygments_lexer": "ipython3",
   "version": "3.8.5"
  }
 },
 "nbformat": 4,
 "nbformat_minor": 4
}
